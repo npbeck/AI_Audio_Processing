{
  "nbformat": 4,
  "nbformat_minor": 0,
  "metadata": {
    "colab": {
      "name": "Entrega_2_IA.ipynb",
      "provenance": [],
      "collapsed_sections": [],
      "machine_shape": "hm"
    },
    "kernelspec": {
      "name": "python3",
      "display_name": "Python 3"
    }
  },
  "cells": [
    {
      "cell_type": "markdown",
      "metadata": {
        "id": "UAlLiJ1C1iDm",
        "colab_type": "text"
      },
      "source": [
        "**Entrega 2, Inteligencia Artificial**, UNAL sede Bogota. \\\\\n",
        "Integrantes: \n",
        "Marco Fidel Caro Durán, \n",
        "Alexis Orlando Sánchez Virgüez, \n",
        "Nils Peer Beck"
      ]
    },
    {
      "cell_type": "markdown",
      "metadata": {
        "id": "YuCPWdplLJWX",
        "colab_type": "text"
      },
      "source": [
        "# **Ruido en el campus**\n",
        "\n",
        "---\n",
        "\n",
        "Dentro de las distintas formas de contaminación que se presentan en el ambiente, está la contaminación acústica. Este tipo de contaminación es generada por el ruido, el cual es todo sonido no deseado con una intensidad alta, que puede ser nocivo para la salud (puede generar perdida del equilibrio y aumento de la presión arterial).\n",
        "\n",
        "Para estudiar el tema del ruido han sido varias las investigaciones y proyectos, es tal el caso de un grupo de investigadores de la Universidad Politécnica de Madrid (UPM), quienes desarrollaron un modelo  de análisis de texto para  detectar niveles de contaminación acústica, mediante las quejas de los usuarios en las redes sociales. También está el proyecto SONYC, que es una iniciativa de científicos de la Universidad de Nueva York que surgió con el propósito de analizar y mitigar los problemas de ruido de esa ciudad. Como primera fase del proyecto se realiza un monitoreo de la ciudad a través de una red compuesta por sensores y personas, y así se obtiene un reporte de ruido a gran escala; Las fases posteriores analizan los datos y buscan la manera de atenuar el ruido. La tesis doctoral de Natalia Genaro García de la Universidad de Granada (España), desarrolla un modelo basado en expertos en la materia y recogiendo datos de diferentes tipos de calle con el objeto de predecir el ruido ambiental urbano utilizando Redes Neuronales Artificiales (RNA).\n",
        "\n",
        "Este proyecto no busca en principio dar solución al problema del ruido, lo que se pretende es realizar un mapa del campus de la Universidad Nacional, con los sitios y horarios en los que se presenta con mayor frecuencia. Este mapa podrá ser utilizado posteriormente para quienes desean analizar su impacto y realizar algún plan de acción para poder reducir el daño causado.  \n"
      ]
    },
    {
      "cell_type": "markdown",
      "metadata": {
        "id": "pXpNKYAZL--q",
        "colab_type": "text"
      },
      "source": [
        "# **Materiales y métodos**\n",
        "\n",
        "Para el desarrollo del mapa se realizó un censado mediante el uso del teléfono celular, instalando las aplicaciones GPS Logger y Grabador de voz. Se realizaron registros en distintos puntos del campus en intervalos de tiempo de alrededor de una hora; la primera app proporciona datos de ubicación y la segunda realiza una grabación del ruido presente en el lugar. Los datos de ubicación se almacenan en un archivo con formato csv; mientras que los registros de audio se almacenan en formato wav. En  python se toman los archivos de registro y se extrae los datos de interés: del archivo csv se toman los datos del tiempo, latitud y longitud; mientras de que del archivo de audio se realiza un promedio del ruido registrado y se caracteriza por una medida en decibeles (db). Se concatenan los datos extraídos de ambos archivos y se procede a identificarlos en un mapa del campus.\n",
        "\n",
        "# **Descripción de datos y su almacenamiento**\n",
        "\n",
        "Debido a que los registros tomados provienen de celulares diferentes para determinar el ruido se hizo un análisis  de la siguiente forma:\n",
        "Tomamos audios  que  se consideran como ruido y no ruido. A partir de estos datos gereramos datos sintéticos con técnicas de _data augmentation_ para audios. Para generar estos datos sintéticos utilizamos inyección de ruido blanco, agregando valores aleatorios a los datos utilizando la librería _numpy_  y cambios de tiempo corriendo el audio a izquierda o a derecha.\n",
        "Después se hizo  un análisis de estos audios sintéticos. A partir de su espectro de frecuencia y amplitud tomamos valores mínimos y máximos relativos para cada espectro. Estos valores se guardan en una lista  utilizando la librería _pandas_ y se etiquetan con un 1 si viene de un audio sintético de ruido o un 0 si no. Por último, utilizamos una regresión logística y la entrenamos con la lista generada para identificar ruido.  \n",
        "\n",
        "\n",
        "\n",
        "\n",
        "\n"
      ]
    },
    {
      "cell_type": "markdown",
      "metadata": {
        "id": "0qEvg4lK4my-",
        "colab_type": "text"
      },
      "source": [
        "# Montar un Drive\n",
        "Vamos a conectar la carpeta de Google Drive que estamos usando como clase para almacenar las grabaciones"
      ]
    },
    {
      "cell_type": "code",
      "metadata": {
        "id": "ZidskQi54SkR",
        "colab_type": "code",
        "colab": {}
      },
      "source": [
        "from google.colab import drive\n",
        "drive.mount('/content/drive')"
      ],
      "execution_count": 0,
      "outputs": []
    },
    {
      "cell_type": "markdown",
      "metadata": {
        "id": "SYiV2pI6nxdI",
        "colab_type": "text"
      },
      "source": [
        "# Instalar software necesario para las librerías"
      ]
    },
    {
      "cell_type": "code",
      "metadata": {
        "id": "qv8XpPEh-p-e",
        "colab_type": "code",
        "colab": {}
      },
      "source": [
        "!sudo apt-get install python-pyaudio python3-pyaudio"
      ],
      "execution_count": 0,
      "outputs": []
    },
    {
      "cell_type": "markdown",
      "metadata": {
        "id": "UgBdio-Kn5-R",
        "colab_type": "text"
      },
      "source": [
        "# Importar liberías"
      ]
    },
    {
      "cell_type": "code",
      "metadata": {
        "id": "wooUqlWbAvvP",
        "colab_type": "code",
        "colab": {}
      },
      "source": [
        "import pyaudio\n",
        "import os\n",
        "import csv\n",
        "import folium\n",
        "import random\n",
        "import pandas as pd\n",
        "from math import sqrt\n",
        "import numpy as np\n",
        "import matplotlib.pyplot as plt\n",
        "from scipy.io import wavfile\n",
        "from scipy import signal\n",
        "from scipy import fftpack"
      ],
      "execution_count": 0,
      "outputs": []
    },
    {
      "cell_type": "markdown",
      "metadata": {
        "id": "UTXdFs4fE3yx",
        "colab_type": "text"
      },
      "source": [
        "# Representar los datos\n",
        "Para poder trabajar de forma eficaz con los datos que grabamos, creamos una clase que represente una grabación y que solamente contiene los datos que nos interesen. Es decir, la ubicación en que fue grabado un data, el tiempo en el que fue grabado y el nivel de ruido que se grabó. \\\\\n",
        "Más adelante vamos a poder analizar objetos de esta clase y vizualizarlos en un mapa."
      ]
    },
    {
      "cell_type": "code",
      "metadata": {
        "colab_type": "code",
        "id": "ZgPU5nrnpqrK",
        "colab": {}
      },
      "source": [
        "class Audio_sample:\n",
        "  def __init__(self, latitude, longitude, time, is_loud):\n",
        "        self.latitude = float(latitude)\n",
        "        self.longitude = float(longitude)\n",
        "        self.time = time\n",
        "        self.is_loud = is_loud"
      ],
      "execution_count": 0,
      "outputs": []
    },
    {
      "cell_type": "markdown",
      "metadata": {
        "colab_type": "text",
        "id": "ANVuEB0FpqrB"
      },
      "source": [
        "# Extraer coordenadas y tiempo de grabación de los archivos csv"
      ]
    },
    {
      "cell_type": "code",
      "metadata": {
        "colab_type": "code",
        "id": "94zi6AYFpqqF",
        "colab": {}
      },
      "source": [
        "def extract_coords_and_time(csv_file):\n",
        "  with open(csv_file) as f:\n",
        "    reader = csv.reader(f)\n",
        "    for row in reader:\n",
        "      if row[0] != \"time\":\n",
        "        # return latitude, longitude and time values    \n",
        "        return row[1], row[2], row[0]"
      ],
      "execution_count": 0,
      "outputs": []
    },
    {
      "cell_type": "markdown",
      "metadata": {
        "id": "7EwuSkW9xB4k",
        "colab_type": "text"
      },
      "source": [
        "# Crear archivos _wav_ de ruido y no ruido para entrenar modelo\n"
      ]
    },
    {
      "cell_type": "code",
      "metadata": {
        "id": "SyoiMQ1I2Uyq",
        "colab_type": "code",
        "colab": {}
      },
      "source": [
        "import librosa\n",
        "import numpy as np\n",
        "import matplotlib.pyplot as plt\n",
        "\n",
        "class AudioAugmentation:\n",
        "    def read_audio_file(self, file_path):\n",
        "        input_length = 6628421\n",
        "        data = librosa.core.load(file_path)[0]\n",
        "        print(len(librosa.core.load(file_path)[0]))\n",
        "        if len(data) > input_length:\n",
        "            data = data[:input_length]\n",
        "        else:\n",
        "            data = np.pad(data, (0, max(0, input_length - len(data))), \"constant\")\n",
        "        return data\n",
        "\n",
        "    def write_audio_file(self, file, data, sample_rate=6628421):\n",
        "        librosa.output.write_wav(file, data, sample_rate)\n",
        "\n",
        "    def plot_time_series(self, data):\n",
        "        fig = plt.figure(figsize=(14, 8))\n",
        "        plt.title('Raw wave ')\n",
        "        plt.ylabel('Amplitude')\n",
        "        plt.plot(np.linspace(0, 1, len(data)), data)\n",
        "        plt.show()\n",
        "\n",
        "    def add_noise(self, data):\n",
        "        noise = np.random.randn(len(data))\n",
        "        data_noise = data + 0.009 * noise\n",
        "        return data_noise\n",
        "\n",
        "    def shift(self, data,i):\n",
        "        return np.roll(data, 100000 + i*100)\n",
        "\n",
        "    def stretch(self, data, rate=1):\n",
        "        input_length = 6628421\n",
        "        data = librosa.effects.time_stretch(data, rate)\n",
        "        if len(data) > input_length:\n",
        "            data = data[:input_length]\n",
        "        else:\n",
        "            data = np.pad(data, (0, max(0, input_length - len(data))), \"constant\")\n",
        "        return data\n",
        "\n",
        "# Create a new instance from AudioAugmentation class\n",
        "for i in range(2):\n",
        "  aa = AudioAugmentation()\n",
        "\n",
        "  # Read and show cat sound\n",
        "  data = aa.read_audio_file(\"/content/drive/My Drive/data_taller_II_IA/Entrenador/FuelConsumptionCo2.csv\")\n",
        "  aa.plot_time_series(data)\n",
        "\n",
        "  # Adding noise to sound\n",
        "  data_noise = aa.add_noise(data)\n",
        "  aa.plot_time_series(data_noise)\n",
        "\n",
        "  # Shifting the sound\n",
        "  data_roll = aa.shift(data,i)\n",
        "  aa.plot_time_series(data_roll)\n",
        "\n",
        "  # Stretching the sound\n",
        "  #data_stretch = aa.stretch(data, 0.8)\n",
        "  #aa.plot_time_series(data_stretch)\n",
        "\n",
        "  # Write generated cat sounds\n",
        "  aa.write_audio_file('/content/drive/My Drive/data_taller_II_IA/Entrenador/test1{}.wav'.format(i), data_noise)\n",
        "  aa.write_audio_file('/content/drive/My Drive/data_taller_II_IA/Entrenador/test2{}.wav'.format(i), data_roll)\n",
        " # aa.write_audio_file('/content/shared-drives/My Drive/audiosdeprueba/test3{}.wav'.format(i), data_stretch)"
      ],
      "execution_count": 0,
      "outputs": []
    },
    {
      "cell_type": "markdown",
      "metadata": {
        "id": "SHT6NuBFNhLL",
        "colab_type": "text"
      },
      "source": [
        "# Medidor del modelo"
      ]
    },
    {
      "cell_type": "code",
      "metadata": {
        "id": "JD9vbb5WNc6Z",
        "colab_type": "code",
        "colab": {}
      },
      "source": [
        " def md(wav_file):\n",
        "  df=pd.read_csv(\"/content/drive/My Drive/Entrenador/TEST.csv\")  # base da datos para el entrenamiento\n",
        "  df.rename(columns={df.columns[0]:'x_0',df.columns[1]:'x_1',df.columns[2]:'x_2',df.columns[3]:'x_3',df.columns[4]:'x_4',df.columns[5]:'x_5',df.columns[6]:'x_6',df.columns[7]:'x_7',df.columns[8]:'x_8',df.columns[9]:'x_9',df.columns[10]:'x_10',df.columns[11]:'x_11',df.columns[12]:'x_12',df.columns[13]:'x_13',df.columns[14]:'x_14',df.columns[15]:'x_15',df.columns[16]:'x_16',df.columns[17]:'x_17',df.columns[18]:'x_18',df.columns[19]:'x_19',df.columns[20]:'e'},inplace=True)\n",
        "  X=df[['x_0','x_1','x_2','x_3','x_4','x_5','x_6','x_7','x_8','x_9','x_10','x_11','x_12','x_13','x_14','x_15','x_16','x_17','x_18','x_19']] #almacenamos datos de las variables de entrada \n",
        "  Y=df['e'] # almacenamos datos de la variable de salida\n",
        "  from sklearn.model_selection import train_test_split  #librerías para separar los datos de prueba y entrenamiento\n",
        "  X_train, X_test, Y_train, Y_test = train_test_split(X,Y,test_size=1) #tomamos un 100% de los datos para obtener el modelo\n",
        "  Z=Y_train\n",
        "  from sklearn.linear_model import LogisticRegression #librería para usar el modelo de regresión logística \n",
        "  d=LogisticRegression(solver = 'lbfgs') #definimos el algoritmo y definimos un 'solver' para evitar alertas\n",
        "  d.fit(X_train,Y_train) #entrenamos el modelo con los datos\n",
        "  L=d.score(X_train,Z)*100 #establece la medida del modelo\n",
        "  return L"
      ],
      "execution_count": 0,
      "outputs": []
    },
    {
      "cell_type": "markdown",
      "metadata": {
        "id": "8Uxk-2kMePQG",
        "colab_type": "text"
      },
      "source": [
        ""
      ]
    },
    {
      "cell_type": "markdown",
      "metadata": {
        "id": "gdED7ZxkAZhE",
        "colab_type": "text"
      },
      "source": [
        "# Determinar si un cierto archivo wav es ruidoso o no"
      ]
    },
    {
      "cell_type": "code",
      "metadata": {
        "id": "8feN88ecDEed",
        "colab_type": "code",
        "colab": {}
      },
      "source": [
        "def determine_if_loud(wav_file):\n",
        "  #return bool(random.getrandbits(1))\n",
        "  \n",
        "  rate, audio = wavfile.read(wav_file)\n",
        "  M=1024\n",
        "  freqs, times, Sx = signal.spectrogram(audio, fs=rate, window='hanning',\n",
        "                                      nperseg=1024, noverlap=M - 100,\n",
        "                                      detrend=False, scaling='spectrum')\n",
        "  T=int(rate/5)\n",
        "  W=int(len(freqs)/5)\n",
        "  A=np.array(audio)\n",
        "  B=np.array(freqs)\n",
        "  f=0\n",
        "  d=T\n",
        "  m=0\n",
        "  n=W\n",
        "  lista=[]\n",
        "  for i in range(5):\n",
        "    P=A[f:d]\n",
        "    H=B[m:n]\n",
        "    h=max(P)\n",
        "    j=min(P)\n",
        "    k=max(H)\n",
        "    l=min(H)\n",
        "    lista.append(h)\n",
        "    lista.append(j)\n",
        "    lista.append(k)\n",
        "    lista.append(l) \n",
        "    f=d\n",
        "    d=d+T\n",
        "    m=n\n",
        "    n=n+W    \n",
        "  df=pd.read_csv(\"/content/drive/My Drive/Entrenador/TEST.csv\")  # base da datos para el entrenamiento\n",
        "  df.rename(columns={df.columns[0]:'x_0',df.columns[1]:'x_1',df.columns[2]:'x_2',df.columns[3]:'x_3',df.columns[4]:'x_4',df.columns[5]:'x_5',df.columns[6]:'x_6',df.columns[7]:'x_7',df.columns[8]:'x_8',df.columns[9]:'x_9',df.columns[10]:'x_10',df.columns[11]:'x_11',df.columns[12]:'x_12',df.columns[13]:'x_13',df.columns[14]:'x_14',df.columns[15]:'x_15',df.columns[16]:'x_16',df.columns[17]:'x_17',df.columns[18]:'x_18',df.columns[19]:'x_19',df.columns[20]:'e'},inplace=True)\n",
        "  X=df[['x_0','x_1','x_2','x_3','x_4','x_5','x_6','x_7','x_8','x_9','x_10','x_11','x_12','x_13','x_14','x_15','x_16','x_17','x_18','x_19']] #almacenamos datos de las variables de entrada \n",
        "  Y=df['e'] # almacenamos datos de la variable de salida\n",
        "  from sklearn.model_selection import train_test_split  #librerías para separar los datos de prueba y entrenamiento\n",
        "  X_train, X_test, Y_train, Y_test = train_test_split(X,Y,test_size=1) #tomamos un 100% de los datos para obtener el modelo\n",
        "  from sklearn.linear_model import LogisticRegression #librería para usar el modelo de regresión logística \n",
        "  d=LogisticRegression(solver = 'lbfgs') #definimos el algoritmo y definimos un 'solver' para evitar alertas\n",
        "  d.fit(X_train,Y_train) #entrenamos el modelo con los datos\n",
        "  yhat = d.predict([np.array(lista)])\n",
        "  if yhat==[1]:\n",
        "     return True\n",
        "  else:\n",
        "     return False\n",
        "\n",
        "  "
      ],
      "execution_count": 0,
      "outputs": []
    },
    {
      "cell_type": "markdown",
      "metadata": {
        "id": "gtwuxV_pBtn9",
        "colab_type": "text"
      },
      "source": [
        "# Visualizar los datos con librería folium"
      ]
    },
    {
      "cell_type": "code",
      "metadata": {
        "id": "3KdhGNfFDoOR",
        "colab_type": "code",
        "colab": {}
      },
      "source": [
        "def visualize_data(samples):\n",
        "  # crear un mapa con la ubicación de la primera grabación como centro\n",
        "  m = folium.Map(location=[samples[0].latitude, samples[0].longitude], zoom_start=16)\n",
        "\n",
        "  # poner etiquetas en el mapa\n",
        "  for sample in samples:\n",
        "    if sample.is_loud:\n",
        "      sample_color = 'red'\n",
        "    else:\n",
        "      sample_color = 'green'\n",
        "    folium.Marker(location=[sample.latitude, sample.longitude], \n",
        "                  icon=folium.Icon(color=sample_color), popup=sample.time).add_to(m)\n",
        "  return m  "
      ],
      "execution_count": 0,
      "outputs": []
    },
    {
      "cell_type": "markdown",
      "metadata": {
        "id": "fTXtQBk0AlKA",
        "colab_type": "text"
      },
      "source": [
        "# Ejecutar funciones arriba para procesar los datos y crear la visualización"
      ]
    },
    {
      "cell_type": "code",
      "metadata": {
        "id": "1r9MeaRKDZjG",
        "colab_type": "code",
        "outputId": "b7ad8736-6454-4c5c-efe7-464df54888ef",
        "colab": {
          "base_uri": "https://localhost:8080/",
          "height": 437
        }
      },
      "source": [
        "# data to be stored in the list below\n",
        "path=\"/content/drive/My Drive/audios2/\"\n",
        "list_of_samples = []\n",
        "Lista2=[]\n",
        "\n",
        "for filename in os.listdir(path):\n",
        "  if filename.endswith(\".wav\"): \n",
        "    noise_level = determine_if_loud(path + filename)\n",
        "    Lista2.append(md(path + filename))\n",
        "    # find corresponding csv file\n",
        "    for other_file in os.listdir(path):\n",
        "      if other_file.startswith(filename[:-4]) and other_file.endswith(\".csv\"):\n",
        "        # the following command only works with PURE CSV FILES\n",
        "        csv_params = extract_coords_and_time(path + other_file)\n",
        "        break\n",
        "    list_of_samples.append(Audio_sample(csv_params[0], csv_params[1], csv_params[2], noise_level))\n",
        "\n",
        "y =(sum(np.array(Lista2)))/(len(np.array(Lista2)))\n",
        "print(\"La Medida del modelo es de {0:.2f}%\".format(y))\n",
        "\n",
        "visualize_data(list_of_samples)"
      ],
      "execution_count": 0,
      "outputs": [
        {
          "output_type": "stream",
          "text": [
            "La Medida del modelo es de 75.26%\n"
          ],
          "name": "stdout"
        },
        {
          "output_type": "execute_result",
          "data": {
            "text/html": [
              "<div style=\"width:100%;\"><div style=\"position:relative;width:100%;height:0;padding-bottom:60%;\"><iframe src=\"data:text/html;charset=utf-8;base64,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\" style=\"position:absolute;width:100%;height:100%;left:0;top:0;border:none !important;\" allowfullscreen webkitallowfullscreen mozallowfullscreen></iframe></div></div>"
            ],
            "text/plain": [
              "<folium.folium.Map at 0x7f42c882e048>"
            ]
          },
          "metadata": {
            "tags": []
          },
          "execution_count": 43
        }
      ]
    },
    {
      "cell_type": "markdown",
      "metadata": {
        "id": "0FsDNBb2B7_K",
        "colab_type": "text"
      },
      "source": [
        "# **Resumen del trabajo y limitaciones**\n",
        "## Logros\n",
        "En este trabajo hemos creado un sistema que por patrones en sus nombres encuentra a archivos _csv_ y archivos _wav_ que pertenecen juntos. El sistema además los analiza con el fin de crear un mapa de lugares ruidosos y no ruidosos en el campus de la Universidad Nacional de Colombia en Bogotá. Esto implica la creación de una clase de Python que representa a los datos tomados de la forma más simple, es decir, más abstracta posible. Además significa usar una librería para visualizar los datos en un mapa. En este caso usamos _folium_ con este fin. Construimos también un modelo para poder clasificar los archivos _wav_ en ruidoso o no, es decir, en categorías booleanas.\n",
        "\n",
        "## Limitaciones\n",
        "Con vista a la propuesta inicial del proyecto, logramos implementarla casi en totalidad. Presentamos procesos funcionales de la colección, del análisis y de la visualisación de datos correspondientes al ruido en determindados lugares geográficos. \\\\\n",
        "Sin embargo, el conjunto de datos que usamos para el entrenamiento del modelo es muy pequeño, así que el modelo es bastante limitado en sus capacidades. También nos limitamos a analizar archivos _wav_ largos, es decir de varios minutos hasta horas, como representaciones de un solo momento. Simplificamos estos datos para poder trabajar de forma más sencilla con ellos, pero eso implica también menor calidad de análisis.\n",
        "\n",
        "## Conclusion\n",
        "En fin, concluimos haber implementado de forma funcional la propuesta de la clase de Inteligencia Artificial. No obstante, en los detalles con respeto al modelo de aprendizaje de máquina, simplificamos mucho para nuestra causa y recomendamos más precisión si fuera un proyecto de impacto importante."
      ]
    }
  ]
}